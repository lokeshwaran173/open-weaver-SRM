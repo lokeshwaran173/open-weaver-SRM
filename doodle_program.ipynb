{
 "cells": [
  {
   "cell_type": "code",
   "execution_count": null,
   "id": "b5ace551",
   "metadata": {},
   "outputs": [],
   "source": [
    "!pip install opencv-python\n"
   ]
  },
  {
   "cell_type": "code",
   "execution_count": null,
   "id": "fb9eee90",
   "metadata": {},
   "outputs": [],
   "source": [
    "import cv2\n",
    "import numpy as np\n",
    "from transformers import GPT2LMHeadModel, GPT2Tokenizer\n"
   ]
  },
  {
   "cell_type": "code",
   "execution_count": null,
   "id": "160be284",
   "metadata": {},
   "outputs": [],
   "source": [
    "model_name = \"gpt2\"\n",
    "model = GPT2LMHeadModel.from_pretrained(model_name)\n",
    "tokenizer = GPT2Tokenizer.from_pretrained(model_name)\n"
   ]
  },
  {
   "cell_type": "code",
   "execution_count": null,
   "id": "f264e5e2",
   "metadata": {},
   "outputs": [],
   "source": [
    "def generate_text(prompt, max_length=100, temperature=0.7):\n",
    "    input_ids = tokenizer.encode(prompt, return_tensors=\"pt\")\n",
    "\n",
    "    with torch.no_grad():\n",
    "        output = model.generate(\n",
    "            input_ids=input_ids,\n",
    "            max_length=max_length,\n",
    "            temperature=temperature,\n",
    "            num_return_sequences=1,\n",
    "        )\n",
    "\n",
    "    generated_text = tokenizer.decode(output[0], skip_special_tokens=True)\n",
    "    return generated_text\n",
    "\n",
    "def doodling_program():\n",
    "    canvas_size = 500\n",
    "    canvas = np.ones((canvas_size, canvas_size, 3), dtype=np.uint8) * 255\n",
    "    drawing = False\n",
    "\n",
    "    while True:\n",
    "        cv2.imshow(\"Doodling Program\", canvas)\n",
    "        key = cv2.waitKey(1) & 0xFF\n",
    "\n",
    "        if key == ord(\"q\"):\n",
    "            break\n",
    "\n",
    "        elif key == ord(\"c\"):\n",
    "            canvas = np.ones((canvas_size, canvas_size, 3), dtype=np.uint8) * 255\n",
    "\n",
    "        elif key == ord(\"g\"):\n",
    "            doodle_text = generate_text(\"I drew a doodle of a \")\n",
    "            canvas = np.ones((canvas_size, canvas_size, 3), dtype=np.uint8) * 255\n",
    "            cv2.putText(canvas, doodle_text, (30, 50), cv2.FONT_HERSHEY_SIMPLEX, 1, (0, 0, 0), 2)\n",
    "\n",
    "        elif key == ord(\"d\"):\n",
    "            drawing = not drawing\n",
    "\n",
    "        elif drawing and key != 255:\n",
    "            canvas_color = (0, 0, 0)  # Black color\n",
    "            thickness = 2\n",
    "\n",
    "            if key == ord(\"r\"):\n",
    "                canvas_color = (0, 0, 255)  # Red color\n",
    "\n",
    "            elif key == ord(\"b\"):\n",
    "                canvas_color = (255, 0, 0)  # Blue color\n",
    "\n",
    "            elif key == ord(\"g\"):\n",
    "                canvas_color = (0, 255, 0)  # Green color\n",
    "\n",
    "            elif key == ord(\"e\"):\n",
    "                canvas_color = (255, 255, 255)  # Eraser (white color)\n",
    "                thickness = 10\n",
    "\n",
    "            elif key == ord(\"s\"):\n",
    "                cv2.imwrite(\"doodle.png\", canvas)\n",
    "\n",
    "            x, y = np.random.randint(0, canvas_size), np.random.randint(0, canvas_size)\n",
    "            canvas = cv2.circle(canvas, (x, y), thickness, canvas_color, -1)\n",
    "\n",
    "    cv2.destroyAllWindows()\n",
    "\n",
    "def main():\n",
    "    doodling_program()\n",
    "\n",
    "if __name__ == \"__main__\":\n",
    "    main()\n"
   ]
  },
  {
   "cell_type": "code",
   "execution_count": null,
   "id": "de6d1399",
   "metadata": {},
   "outputs": [],
   "source": []
  },
  {
   "cell_type": "code",
   "execution_count": null,
   "id": "279d332f",
   "metadata": {},
   "outputs": [],
   "source": []
  },
  {
   "cell_type": "code",
   "execution_count": null,
   "id": "be1aa00d",
   "metadata": {},
   "outputs": [],
   "source": []
  },
  {
   "cell_type": "code",
   "execution_count": null,
   "id": "9d56f702",
   "metadata": {},
   "outputs": [],
   "source": []
  },
  {
   "cell_type": "code",
   "execution_count": null,
   "id": "9406e26b",
   "metadata": {},
   "outputs": [],
   "source": []
  }
 ],
 "metadata": {
  "kernelspec": {
   "display_name": "Python 3 (ipykernel)",
   "language": "python",
   "name": "python3"
  },
  "language_info": {
   "codemirror_mode": {
    "name": "ipython",
    "version": 3
   },
   "file_extension": ".py",
   "mimetype": "text/x-python",
   "name": "python",
   "nbconvert_exporter": "python",
   "pygments_lexer": "ipython3",
   "version": "3.10.9"
  }
 },
 "nbformat": 4,
 "nbformat_minor": 5
}
